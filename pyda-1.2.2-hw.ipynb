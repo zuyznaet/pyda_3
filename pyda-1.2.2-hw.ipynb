{
 "cells": [
  {
   "cell_type": "markdown",
   "metadata": {},
   "source": [
    "## Задание 1"
   ]
  },
  {
   "cell_type": "markdown",
   "metadata": {},
   "source": [
    "Дан список с визитами по городам и странам. \n",
    "Напишите код, который возвращает отфильтрованный список geo_logs, содержащий только визиты из России."
   ]
  },
  {
   "cell_type": "code",
   "execution_count": 297,
   "metadata": {},
   "outputs": [
    {
     "name": "stdout",
     "output_type": "stream",
     "text": [
      "[{'visit1': ['Москва', 'Россия'], 'visit3': ['Владимир', 'Россия'], 'visit7': ['Тула', 'Россия'], 'visit8': ['Тула', 'Россия'], 'visit9': ['Курск', 'Россия'], 'visgeoit10': ['Архангельск', 'Россия']}]\n"
     ]
    }
   ],
   "source": [
    "geo_logs = [\n",
    "    {'visit1': ['Москва', 'Россия']},\n",
    "    {'visit2': ['Дели', 'Индия']},\n",
    "    {'visit3': ['Владимир', 'Россия']},\n",
    "    {'visit4': ['Лиссабон', 'Португалия']},\n",
    "    {'visit5': ['Париж', 'Франция']},\n",
    "    {'visit6': ['Лиссабон', 'Португалия']},\n",
    "    {'visit7': ['Тула', 'Россия']},\n",
    "    {'visit8': ['Тула', 'Россия']},\n",
    "    {'visit9': ['Курск', 'Россия']},\n",
    "    {'visgeoit10': ['Архангельск', 'Россия']}\n",
    "]\n",
    "\n",
    "   \n",
    "new_dict = {}\n",
    "for element in geo_logs:\n",
    "    for key, value in element.items():\n",
    "        if value[1] == \"Россия\":\n",
    "            new_dict[key] = value\n",
    "geo_logs = [new_dict]\n",
    "print(geo_logs)\n"
   ]
  },
  {
   "cell_type": "markdown",
   "metadata": {},
   "source": [
    "## Задание 2"
   ]
  },
  {
   "cell_type": "markdown",
   "metadata": {},
   "source": [
    "Выведите на экран все уникальные гео-ID из значений словаря ids. Т. е. список вида [213, 15, 54, 119, 98, 35]"
   ]
  },
  {
   "cell_type": "code",
   "execution_count": 298,
   "metadata": {},
   "outputs": [
    {
     "name": "stdout",
     "output_type": "stream",
     "text": [
      "{98, 35, 213, 54, 119, 15}\n"
     ]
    }
   ],
   "source": [
    "ids = {'user1': [213, 213, 213, 15, 213], \n",
    "       'user2': [54, 54, 119, 119, 119], \n",
    "       'user3': [213, 98, 98, 35]}\n",
    "\n",
    "#print(ids.values())\n",
    "\n",
    "# geo = set()\n",
    "#print(type(new_geo))\n",
    "# for value in ids.values():\n",
    "#     geo.add(value[0])\n",
    "#     print(geo)\n",
    "  \n",
    "user = set()\n",
    "\n",
    "[user.update(set(x) if isinstance(x, (list, set)) else [x])\n",
    " for x in ids.values()]\n",
    "\n",
    "print(user)\n"
   ]
  },
  {
   "cell_type": "markdown",
   "metadata": {},
   "source": [
    "## Задание 3"
   ]
  },
  {
   "cell_type": "markdown",
   "metadata": {},
   "source": [
    "Дан список поисковых запросов. Получить распределение количества слов в них. \n",
    "Т. е. поисковых запросов из одного - слова 5%, из двух - 7%, из трех - 3% и т.д."
   ]
  },
  {
   "cell_type": "code",
   "execution_count": 299,
   "metadata": {},
   "outputs": [
    {
     "name": "stdout",
     "output_type": "stream",
     "text": [
      "процент 1 слово  =  10.0 %\n",
      "процент 2 слова  =  30.0 %\n",
      "процент 3 слова  =  40.0 %\n",
      "процент 4 слова  =  20.0 %\n",
      "\n"
     ]
    }
   ],
   "source": [
    "queries = [\n",
    "    'смотреть сериалы онлайн',\n",
    "    'новости спорта',\n",
    "    'афиша кино',\n",
    "    'курс доллара',\n",
    "    'сериалы этим летом',\n",
    "    'курс по питону',\n",
    "    'сериалы про спорт',    \n",
    "    'ver ver ver ver',\n",
    "    'a b c d',\n",
    "    'a'\n",
    "    \n",
    "]\n",
    "\n",
    "\n",
    "\n",
    "wordcount = {}\n",
    "# print(len(queries))\n",
    "\n",
    "for query in queries:\n",
    "    query = query.split(' ')\n",
    "#     print(query)\n",
    "    length = len(query)\n",
    "#     print(length)\n",
    "    if length not in wordcount:\n",
    "        wordcount[length] = 1 / len(queries)\n",
    "        for_one = 1 / len(queries)\n",
    "    else:\n",
    "        wordcount[length] = round((wordcount[length] + for_one), 2)\n",
    "        \n",
    "# print(wordcount.keys())\n",
    "print('процент 1 слово  = ', wordcount.get(1) * 100, '%' + '\\n'\n",
    "      'процент 2 слова  = ', wordcount.get(2) * 100, '%' + '\\n'\n",
    "      'процент 3 слова  = ', wordcount.get(3) * 100, '%' + '\\n'\n",
    "     'процент 4 слова  = ', wordcount.get(4) * 100, '%' + '\\n')\n"
   ]
  },
  {
   "cell_type": "markdown",
   "metadata": {},
   "source": [
    "## Задание 4"
   ]
  },
  {
   "cell_type": "markdown",
   "metadata": {},
   "source": [
    "Дана статистика рекламных каналов по объемам продаж. Напишите скрипт, который возвращает название канала с максимальным объемом.\n",
    "Т. е. в данном примере скрипт должен возвращать 'yandex'."
   ]
  },
  {
   "cell_type": "code",
   "execution_count": 304,
   "metadata": {},
   "outputs": [
    {
     "name": "stdout",
     "output_type": "stream",
     "text": [
      "dict_keys(['yandex'])\n"
     ]
    }
   ],
   "source": [
    "stats = {'facebook': 55, 'yandex': 120, 'vk': 115, 'google': 99, 'email': 42, 'ok': 98}\n",
    "\n",
    "max_val = max(stats.values())\n",
    "final_dict = {k:v for k, v in stats.items() if v == max_val}\n",
    "print(final_dict.keys())"
   ]
  },
  {
   "cell_type": "code",
   "execution_count": null,
   "metadata": {},
   "outputs": [],
   "source": []
  }
 ],
 "metadata": {
  "kernelspec": {
   "display_name": "Python 3",
   "language": "python",
   "name": "python3"
  },
  "language_info": {
   "codemirror_mode": {
    "name": "ipython",
    "version": 3
   },
   "file_extension": ".py",
   "mimetype": "text/x-python",
   "name": "python",
   "nbconvert_exporter": "python",
   "pygments_lexer": "ipython3",
   "version": "3.7.4"
  }
 },
 "nbformat": 4,
 "nbformat_minor": 2
}
